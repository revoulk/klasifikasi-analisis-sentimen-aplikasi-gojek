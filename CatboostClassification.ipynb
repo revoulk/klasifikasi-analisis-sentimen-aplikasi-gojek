{
 "cells": [
  {
   "cell_type": "code",
   "execution_count": 1,
   "id": "7b9625ae",
   "metadata": {},
   "outputs": [],
   "source": [
    "import pandas as pd\n",
    "from catboost import CatBoostClassifier\n",
    "from sklearn.model_selection import train_test_split\n",
    "from sklearn.metrics import classification_report\n",
    "import matplotlib.pyplot as plt\n",
    "import seaborn as sns\n",
    "from sklearn.metrics import confusion_matrix"
   ]
  },
  {
   "cell_type": "code",
   "execution_count": 2,
   "id": "bd897ba1",
   "metadata": {},
   "outputs": [],
   "source": [
    "# Load file csv\n",
    "df = pd.read_csv(\"GojekAppReview.csv\")\n",
    "\n",
    "# Ambil kolom\n",
    "df = df[['content', 'score']].dropna()\n",
    "\n",
    "# Mapping skor ke label 3 kelas\n",
    "def map_score(score):\n",
    "    if score <= 2:\n",
    "        return \"Negatif\"\n",
    "    else:\n",
    "        return \"Positif\"\n",
    "\n",
    "df['label'] = df['score'].apply(map_score)"
   ]
  },
  {
   "cell_type": "code",
   "execution_count": 3,
   "id": "ac63a958",
   "metadata": {},
   "outputs": [
    {
     "name": "stdout",
     "output_type": "stream",
     "text": [
      "0:\tlearn: 0.6286444\ttotal: 424ms\tremaining: 1m 24s\n",
      "100:\tlearn: 0.2344694\ttotal: 27.8s\tremaining: 27.2s\n",
      "199:\tlearn: 0.2276929\ttotal: 52.8s\tremaining: 0us\n",
      "              precision    recall  f1-score   support\n",
      "\n",
      "     Negatif       0.77      0.87      0.82     10870\n",
      "     Positif       0.96      0.92      0.94     34130\n",
      "\n",
      "    accuracy                           0.91     45000\n",
      "   macro avg       0.86      0.89      0.88     45000\n",
      "weighted avg       0.91      0.91      0.91     45000\n",
      "\n"
     ]
    }
   ],
   "source": [
    "# Pisahkan fitur dan label\n",
    "X = df[['content']]\n",
    "y = df['label']\n",
    "\n",
    "# Split data 80% data latih, 20% data uji\n",
    "X_latih, X_tes, y_latih, y_tes = train_test_split(X, y, test_size=0.2, random_state=42)\n",
    "\n",
    "# Inisialisasi model\n",
    "model = CatBoostClassifier(\n",
    "    iterations=200,\n",
    "    learning_rate=0.1,\n",
    "    depth=6,\n",
    "    text_features=['content'],\n",
    "    verbose=100,\n",
    "    loss_function='MultiClass'\n",
    ")\n",
    "\n",
    "# Training model\n",
    "model.fit(X_latih, y_latih, text_features=['content'])\n",
    "\n",
    "# Prediksi\n",
    "y_prediksi = model.predict(X_tes)\n",
    "\n",
    "# Evaluasi\n",
    "print(classification_report(y_tes, y_prediksi))"
   ]
  },
  {
   "cell_type": "code",
   "execution_count": 8,
   "id": "3576aaff",
   "metadata": {},
   "outputs": [
    {
     "data": {
      "image/png": "[encoded data removed]",
      "text/plain": [
       "<Figure size 600x500 with 2 Axes>"
      ]
     },
     "metadata": {},
     "output_type": "display_data"
    }
   ],
   "source": [
    "# Confusion matrix\n",
    "cm = confusion_matrix(y_tes, y_prediksi, labels=[\"Negatif\", \"Positif\"])\n",
    "\n",
    "# Visualisasi\n",
    "plt.figure(figsize=(6,5))\n",
    "sns.heatmap(cm, annot=True, fmt='d', cmap='Blues',\n",
    "            xticklabels=[\"Negatif\", \"Positif\"],\n",
    "            yticklabels=[\"Negatif\", \"Positif\"])\n",
    "plt.xlabel('Predicted')\n",
    "plt.ylabel('Actual')\n",
    "plt.title('Confusion Matrix')\n",
    "plt.show()"
   ]
  },
  {
   "cell_type": "code",
   "execution_count": null,
   "id": "7977a407",
   "metadata": {},
   "outputs": [
    {
     "name": "stdout",
     "output_type": "stream",
     "text": [
      "\n",
      "Contoh hasil prediksi:\n",
      "                                                  content Label Asli Prediksi\n",
      "167238                                              Bagus    Positif  Positif\n",
      "78770                                                Good    Positif  Positif\n",
      "127715                                  Super duper bagus    Positif  Positif\n",
      "115199                          Keren sering dapet diskon    Positif  Positif\n",
      "69944                                           Ok banget    Positif  Positif\n",
      "7467                      Teruskan memberikan pelayananya    Positif  Positif\n",
      "76154   Entah kurang apa gojek memberikan double order...    Negatif  Negatif\n",
      "78164   Go mart eror  Bnyak yg ga ada di daftar jdi ha...    Negatif  Negatif\n",
      "205409                                             Ok lah    Positif  Positif\n",
      "148169  OIII GOJEK KALAU NGASIH HARGA YANG BENER DONG ...    Negatif  Negatif\n"
     ]
    }
   ],
   "source": [
    "# Tampilkan 10 contoh ulasan dari data uji\n",
    "df_hasil = X_tes.copy()\n",
    "df_hasil['Label Asli'] = y_tes.values\n",
    "df_hasil['Prediksi'] = y_prediksi.ravel()\n",
    "\n",
    "# Tampilkan 10 sampel\n",
    "print(\"\\nContoh hasil prediksi:\")\n",
    "print(df_hasil.sample(10, random_state=42))"
   ]
  }
 ],
 "metadata": {
  "kernelspec": {
   "display_name": "Python 3",
   "language": "python",
   "name": "python3"
  },
  "language_info": {
   "codemirror_mode": {
    "name": "ipython",
    "version": 3
   },
   "file_extension": ".py",
   "mimetype": "text/x-python",
   "name": "python",
   "nbconvert_exporter": "python",
   "pygments_lexer": "ipython3",
   "version": "3.10.7"
  }
 },
 "nbformat": 4,
 "nbformat_minor": 5
}
