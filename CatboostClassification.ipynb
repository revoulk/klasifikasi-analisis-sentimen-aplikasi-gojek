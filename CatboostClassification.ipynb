{
 "cells": [
  {
   "cell_type": "code",
   "execution_count": 1,
   "id": "7b9625ae",
   "metadata": {},
   "outputs": [],
   "source": [
    "import pandas as pd"
   ]
  },
  {
   "cell_type": "code",
   "execution_count": 2,
   "id": "bd897ba1",
   "metadata": {},
   "outputs": [],
   "source": [
    "# Load file csv\n",
    "df = pd.read_csv(\"GojekAppReview.csv\")\n",
    "\n",
    "# Ambil kolom\n",
    "df = df[['content', 'score']].dropna()\n",
    "\n",
    "# Mapping skor ke label 3 kelas\n",
    "def map_score(score):\n",
    "    if score <= 2:\n",
    "        return \"Negatif\"\n",
    "    else:\n",
    "        return \"Positif\"\n",
    "\n",
    "df['label'] = df['score'].apply(map_score)"
   ]
  },
  {
   "cell_type": "code",
   "execution_count": 3,
   "id": "cf384935",
   "metadata": {},
   "outputs": [],
   "source": [
    "# Ambil data latih 20.000 data\n",
    "df_contoh = df.sample(n=20000, random_state=42)"
   ]
  },
  {
   "cell_type": "code",
   "execution_count": 4,
   "id": "c1d4cc3e",
   "metadata": {},
   "outputs": [
    {
     "name": "stdout",
     "output_type": "stream",
     "text": [
      "label\n",
      "Positif    15098\n",
      "Negatif     4902\n",
      "Name: count, dtype: int64\n"
     ]
    }
   ],
   "source": [
    "# Oversampling kelas netral\n",
    "positif = df_contoh[df_contoh['label'] == 'Positif']\n",
    "negatif = df_contoh[df_contoh['label'] == 'Negatif']\n",
    "\n",
    "print(df_contoh['label'].value_counts())"
   ]
  },
  {
   "cell_type": "code",
   "execution_count": 5,
   "id": "f0a61740",
   "metadata": {},
   "outputs": [],
   "source": [
    "from catboost import CatBoostClassifier\n",
    "from sklearn.model_selection import train_test_split\n",
    "from sklearn.metrics import classification_report"
   ]
  },
  {
   "cell_type": "code",
   "execution_count": 6,
   "id": "ac63a958",
   "metadata": {},
   "outputs": [
    {
     "name": "stdout",
     "output_type": "stream",
     "text": [
      "0:\tlearn: 0.6340619\ttotal: 219ms\tremaining: 43.6s\n",
      "100:\tlearn: 0.2628153\ttotal: 16.8s\tremaining: 16.5s\n",
      "199:\tlearn: 0.2484127\ttotal: 31.8s\tremaining: 0us\n",
      "              precision    recall  f1-score   support\n",
      "\n",
      "     Negatif       0.74      0.83      0.78       987\n",
      "     Positif       0.94      0.90      0.92      3013\n",
      "\n",
      "    accuracy                           0.89      4000\n",
      "   macro avg       0.84      0.87      0.85      4000\n",
      "weighted avg       0.89      0.89      0.89      4000\n",
      "\n"
     ]
    }
   ],
   "source": [
    "X = df_contoh[['content']]\n",
    "y = df_contoh['label']\n",
    "\n",
    "# Split data\n",
    "X_latih, X_tes, y_latih, y_tes = train_test_split(X, y, test_size=0.2, random_state=42)\n",
    "\n",
    "# Inisialisasi dan training model\n",
    "model = CatBoostClassifier(\n",
    "    iterations=200,\n",
    "    learning_rate=0.1,\n",
    "    depth=6,\n",
    "    text_features=['content'],\n",
    "    verbose=100,\n",
    "    loss_function='MultiClass'\n",
    ")\n",
    "\n",
    "model.fit(X_latih, y_latih, text_features=['content'])\n",
    "\n",
    "# Prediksi dan evaluasi\n",
    "y_prediksi = model.predict(X_tes)\n",
    "print(classification_report(y_tes, y_prediksi))\n"
   ]
  },
  {
   "cell_type": "code",
   "execution_count": 7,
   "id": "b56ed504",
   "metadata": {},
   "outputs": [],
   "source": [
    "# Confusion Matrix\n",
    "import matplotlib.pyplot as plt\n",
    "import seaborn as sns\n",
    "from sklearn.metrics import confusion_matrix"
   ]
  },
  {
   "cell_type": "code",
   "execution_count": 8,
   "id": "3576aaff",
   "metadata": {},
   "outputs": [
    {
     "data": {
      "image/png": "[encoded data removed]",
      "text/plain": [
       "<Figure size 600x500 with 2 Axes>"
      ]
     },
     "metadata": {},
     "output_type": "display_data"
    }
   ],
   "source": [
    "# Buat confusion matrix\n",
    "cm = confusion_matrix(y_tes, y_prediksi, labels=[\"Negatif\", \"Positif\"])\n",
    "\n",
    "# Visualisasikan\n",
    "plt.figure(figsize=(6,5))\n",
    "sns.heatmap(cm, annot=True, fmt='d', cmap='Blues',\n",
    "            xticklabels=[\"Negatif\", \"Positif\"],\n",
    "            yticklabels=[\"Negatif\", \"Positif\"])\n",
    "plt.xlabel('Predicted')\n",
    "plt.ylabel('Actual')\n",
    "plt.title('Confusion Matrix')\n",
    "plt.show()"
   ]
  },
  {
   "cell_type": "code",
   "execution_count": 17,
   "id": "f57d74fb",
   "metadata": {},
   "outputs": [
    {
     "name": "stdout",
     "output_type": "stream",
     "text": [
      "Ulasan: Makin lama gojek makin ngga jelas susah bgt dapet driver buat gofood ongkirnya juga mahal bgt Mohon diperbaiki\n",
      "→ Prediksi Sentimen: Negatif\n",
      "\n",
      "Ulasan: Sekarang go food ngga pernah ada promo ongkirnya makin mahal aja\n",
      "→ Prediksi Sentimen: Negatif\n",
      "\n",
      "Ulasan: Aplikasi biasa aja, kadang error kadang lancar\n",
      "→ Prediksi Sentimen: Positif\n",
      "\n"
     ]
    }
   ],
   "source": [
    "# Contoh ulasan yang ingin diuji\n",
    "ulasan_baru = [\n",
    "    \"Makin lama gojek makin ngga jelas susah bgt dapet driver buat gofood ongkirnya juga mahal bgt Mohon diperbaiki\",\n",
    "    \"Sekarang go food ngga pernah ada promo ongkirnya makin mahal aja\",\n",
    "    \"Aplikasi biasa aja, kadang error kadang lancar\"\n",
    "]\n",
    "\n",
    "# Buat DataFrame dari ulasan\n",
    "df_ulasan_baru = pd.DataFrame({'content': ulasan_baru})\n",
    "\n",
    "# Prediksi\n",
    "hasil_prediksi = model.predict(df_ulasan_baru)\n",
    "\n",
    "# Tampilkan hasil\n",
    "for teks, label in zip(ulasan_baru, hasil_prediksi):\n",
    "    print(f\"Ulasan: {teks}\\n→ Prediksi Sentimen: {label[0]}\\n\")"
   ]
  }
 ],
 "metadata": {
  "kernelspec": {
   "display_name": "Python 3",
   "language": "python",
   "name": "python3"
  },
  "language_info": {
   "codemirror_mode": {
    "name": "ipython",
    "version": 3
   },
   "file_extension": ".py",
   "mimetype": "text/x-python",
   "name": "python",
   "nbconvert_exporter": "python",
   "pygments_lexer": "ipython3",
   "version": "3.10.7"
  }
 },
 "nbformat": 4,
 "nbformat_minor": 5
}
